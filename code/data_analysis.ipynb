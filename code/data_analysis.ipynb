{
 "cells": [
  {
   "cell_type": "code",
   "execution_count": 2,
   "metadata": {},
   "outputs": [],
   "source": [
    "import numpy as np\n",
    "import pandas as pd\n",
    "import matplotlib.pyplot as plt\n",
    "import seaborn as sns\n",
    "from sklearn.feature_extraction.text import TfidfVectorizer, CountVectorizer\n",
    "from sklearn.decomposition import TruncatedSVD\n",
    "from sklearn import preprocessing, model_selection, metrics\n",
    "import lightgbm as lgb\n",
    "\n",
    "import warnings\n",
    "warnings.filterwarnings(\"ignore\")"
   ]
  },
  {
   "cell_type": "code",
   "execution_count": 17,
   "metadata": {},
   "outputs": [
    {
     "data": {
      "text/html": [
       "<script type=\"text/javascript\">window.PlotlyConfig = {MathJaxConfig: 'local'};</script><script type=\"text/javascript\">if (window.MathJax) {MathJax.Hub.Config({SVG: {font: \"STIX-Web\"}});}</script><script>requirejs.config({paths: { 'plotly': ['https://cdn.plot.ly/plotly-latest.min']},});if(!window._Plotly) {require(['plotly'],function(plotly) {window._Plotly=plotly;});}</script>"
      ],
      "text/vnd.plotly.v1+html": [
       "<script type=\"text/javascript\">window.PlotlyConfig = {MathJaxConfig: 'local'};</script><script type=\"text/javascript\">if (window.MathJax) {MathJax.Hub.Config({SVG: {font: \"STIX-Web\"}});}</script><script>requirejs.config({paths: { 'plotly': ['https://cdn.plot.ly/plotly-latest.min']},});if(!window._Plotly) {require(['plotly'],function(plotly) {window._Plotly=plotly;});}</script>"
      ]
     },
     "metadata": {},
     "output_type": "display_data"
    }
   ],
   "source": [
    "import plotly.offline as py\n",
    "py.init_notebook_mode(connected=True)\n",
    "import plotly.graph_objs as go\n",
    "import plotly.tools as tls\n",
    "\n",
    "# 不让报错\n",
    "pd.options.mode.chained_assignment = None # default='warn'\n",
    "\n",
    "# 设置notebook一个cell的显示列数\n",
    "pd.options.display.max_columns = 999"
   ]
  },
  {
   "cell_type": "code",
   "execution_count": 4,
   "metadata": {},
   "outputs": [
    {
     "name": "stdout",
     "output_type": "stream",
     "text": [
      "test.csv\n",
      "train.csv\n",
      "\n"
     ]
    }
   ],
   "source": [
    "# 与终端交互\n",
    "from subprocess import check_output\n",
    "print(check_output([\"ls\", \"../data/\"]).decode(\"utf8\"))"
   ]
  },
  {
   "cell_type": "code",
   "execution_count": 6,
   "metadata": {},
   "outputs": [
    {
     "name": "stdout",
     "output_type": "stream",
     "text": [
      "Train file rows and columns are:  (10000, 18)\n",
      "Test file rows and columns are:  (10000, 17)\n"
     ]
    }
   ],
   "source": [
    "train_df = pd.read_csv(\"../data/train.csv\", parse_dates=[\"activation_date\"]).sample(10000)\n",
    "test_df = pd.read_csv(\"../data/test.csv\", parse_dates=[\"activation_date\"]).sample(10000)\n",
    "\n",
    "print(\"Train file rows and columns are: \", train_df.shape)\n",
    "print(\"Test file rows and columns are: \", test_df.shape)"
   ]
  },
  {
   "cell_type": "code",
   "execution_count": 7,
   "metadata": {},
   "outputs": [
    {
     "data": {
      "text/html": [
       "<div>\n",
       "<style scoped>\n",
       "    .dataframe tbody tr th:only-of-type {\n",
       "        vertical-align: middle;\n",
       "    }\n",
       "\n",
       "    .dataframe tbody tr th {\n",
       "        vertical-align: top;\n",
       "    }\n",
       "\n",
       "    .dataframe thead th {\n",
       "        text-align: right;\n",
       "    }\n",
       "</style>\n",
       "<table border=\"1\" class=\"dataframe\">\n",
       "  <thead>\n",
       "    <tr style=\"text-align: right;\">\n",
       "      <th></th>\n",
       "      <th>item_id</th>\n",
       "      <th>user_id</th>\n",
       "      <th>region</th>\n",
       "      <th>city</th>\n",
       "      <th>parent_category_name</th>\n",
       "      <th>category_name</th>\n",
       "      <th>param_1</th>\n",
       "      <th>param_2</th>\n",
       "      <th>param_3</th>\n",
       "      <th>title</th>\n",
       "      <th>description</th>\n",
       "      <th>price</th>\n",
       "      <th>item_seq_number</th>\n",
       "      <th>activation_date</th>\n",
       "      <th>user_type</th>\n",
       "      <th>image</th>\n",
       "      <th>image_top_1</th>\n",
       "      <th>deal_probability</th>\n",
       "    </tr>\n",
       "  </thead>\n",
       "  <tbody>\n",
       "    <tr>\n",
       "      <th>149897</th>\n",
       "      <td>ec8598fbd76f</td>\n",
       "      <td>deb503aba830</td>\n",
       "      <td>Челябинская область</td>\n",
       "      <td>Челябинск</td>\n",
       "      <td>Личные вещи</td>\n",
       "      <td>Одежда, обувь, аксессуары</td>\n",
       "      <td>Женская одежда</td>\n",
       "      <td>Платья и юбки</td>\n",
       "      <td>44–46 (M)</td>\n",
       "      <td>Юбки разные, несколько</td>\n",
       "      <td>Юбки новые, на молодую женщину, девушку.</td>\n",
       "      <td>100.0</td>\n",
       "      <td>10</td>\n",
       "      <td>2017-03-25</td>\n",
       "      <td>Private</td>\n",
       "      <td>cb10a3a216b0a4cc263c014d301994544a7295b618a3f4...</td>\n",
       "      <td>377.0</td>\n",
       "      <td>0.00000</td>\n",
       "    </tr>\n",
       "    <tr>\n",
       "      <th>949093</th>\n",
       "      <td>8e2885207336</td>\n",
       "      <td>9a8e5c843bb7</td>\n",
       "      <td>Волгоградская область</td>\n",
       "      <td>Камышин</td>\n",
       "      <td>Личные вещи</td>\n",
       "      <td>Детская одежда и обувь</td>\n",
       "      <td>Для мальчиков</td>\n",
       "      <td>Трикотаж</td>\n",
       "      <td>Без размера</td>\n",
       "      <td>Кофта</td>\n",
       "      <td>На 1-2 года</td>\n",
       "      <td>100.0</td>\n",
       "      <td>43</td>\n",
       "      <td>2017-03-20</td>\n",
       "      <td>Private</td>\n",
       "      <td>1df51abffdbe0047a4ed51382e042fc9f2982db68eb019...</td>\n",
       "      <td>65.0</td>\n",
       "      <td>0.00000</td>\n",
       "    </tr>\n",
       "    <tr>\n",
       "      <th>1159529</th>\n",
       "      <td>917003e9f207</td>\n",
       "      <td>d9ec8a8b0c1a</td>\n",
       "      <td>Ставропольский край</td>\n",
       "      <td>Минеральные Воды</td>\n",
       "      <td>Недвижимость</td>\n",
       "      <td>Дома, дачи, коттеджи</td>\n",
       "      <td>Сдам</td>\n",
       "      <td>Дом</td>\n",
       "      <td>На длительный срок</td>\n",
       "      <td>Дом 58 м² на участке 5 сот.</td>\n",
       "      <td>Сдается на длительный срок дом из трех комнат....</td>\n",
       "      <td>9000.0</td>\n",
       "      <td>733</td>\n",
       "      <td>2017-03-22</td>\n",
       "      <td>Company</td>\n",
       "      <td>13bf8c97d43928cd6f029ef739069b2de8eace139993a0...</td>\n",
       "      <td>2219.0</td>\n",
       "      <td>0.77865</td>\n",
       "    </tr>\n",
       "    <tr>\n",
       "      <th>240963</th>\n",
       "      <td>99f3de206a81</td>\n",
       "      <td>f50a409a97d2</td>\n",
       "      <td>Волгоградская область</td>\n",
       "      <td>Волгоград</td>\n",
       "      <td>Транспорт</td>\n",
       "      <td>Автомобили</td>\n",
       "      <td>С пробегом</td>\n",
       "      <td>Chevrolet</td>\n",
       "      <td>Niva</td>\n",
       "      <td>Chevrolet Niva, 2012</td>\n",
       "      <td>Салон сигарет не видел. Расходники менялись св...</td>\n",
       "      <td>380000.0</td>\n",
       "      <td>30</td>\n",
       "      <td>2017-03-22</td>\n",
       "      <td>Private</td>\n",
       "      <td>80e18072ad716079b1018fec02064b6bef59c7e932a50e...</td>\n",
       "      <td>2264.0</td>\n",
       "      <td>0.10260</td>\n",
       "    </tr>\n",
       "    <tr>\n",
       "      <th>144247</th>\n",
       "      <td>0ca007a7a633</td>\n",
       "      <td>229fc5773535</td>\n",
       "      <td>Оренбургская область</td>\n",
       "      <td>Оренбург</td>\n",
       "      <td>Бытовая электроника</td>\n",
       "      <td>Телефоны</td>\n",
       "      <td>Sony</td>\n",
       "      <td>NaN</td>\n",
       "      <td>NaN</td>\n",
       "      <td>Телефон легенда - Sony Ericsson K610i</td>\n",
       "      <td>В рабочем состоянии. Батарея живая!  Цена 5 па...</td>\n",
       "      <td>500.0</td>\n",
       "      <td>89</td>\n",
       "      <td>2017-03-16</td>\n",
       "      <td>Private</td>\n",
       "      <td>1362f3e2b4b5686176a0decae0ee321d5bcfaa327a282a...</td>\n",
       "      <td>2929.0</td>\n",
       "      <td>0.76786</td>\n",
       "    </tr>\n",
       "  </tbody>\n",
       "</table>\n",
       "</div>"
      ],
      "text/plain": [
       "              item_id       user_id                 region              city  \\\n",
       "149897   ec8598fbd76f  deb503aba830    Челябинская область         Челябинск   \n",
       "949093   8e2885207336  9a8e5c843bb7  Волгоградская область           Камышин   \n",
       "1159529  917003e9f207  d9ec8a8b0c1a    Ставропольский край  Минеральные Воды   \n",
       "240963   99f3de206a81  f50a409a97d2  Волгоградская область         Волгоград   \n",
       "144247   0ca007a7a633  229fc5773535   Оренбургская область          Оренбург   \n",
       "\n",
       "        parent_category_name              category_name         param_1  \\\n",
       "149897           Личные вещи  Одежда, обувь, аксессуары  Женская одежда   \n",
       "949093           Личные вещи     Детская одежда и обувь   Для мальчиков   \n",
       "1159529         Недвижимость       Дома, дачи, коттеджи            Сдам   \n",
       "240963             Транспорт                 Автомобили      С пробегом   \n",
       "144247   Бытовая электроника                   Телефоны            Sony   \n",
       "\n",
       "               param_2             param_3  \\\n",
       "149897   Платья и юбки           44–46 (M)   \n",
       "949093        Трикотаж         Без размера   \n",
       "1159529            Дом  На длительный срок   \n",
       "240963       Chevrolet                Niva   \n",
       "144247             NaN                 NaN   \n",
       "\n",
       "                                         title  \\\n",
       "149897                  Юбки разные, несколько   \n",
       "949093                                   Кофта   \n",
       "1159529            Дом 58 м² на участке 5 сот.   \n",
       "240963                    Chevrolet Niva, 2012   \n",
       "144247   Телефон легенда - Sony Ericsson K610i   \n",
       "\n",
       "                                               description     price  \\\n",
       "149897            Юбки новые, на молодую женщину, девушку.     100.0   \n",
       "949093                                         На 1-2 года     100.0   \n",
       "1159529  Сдается на длительный срок дом из трех комнат....    9000.0   \n",
       "240963   Салон сигарет не видел. Расходники менялись св...  380000.0   \n",
       "144247   В рабочем состоянии. Батарея живая!  Цена 5 па...     500.0   \n",
       "\n",
       "         item_seq_number activation_date user_type  \\\n",
       "149897                10      2017-03-25   Private   \n",
       "949093                43      2017-03-20   Private   \n",
       "1159529              733      2017-03-22   Company   \n",
       "240963                30      2017-03-22   Private   \n",
       "144247                89      2017-03-16   Private   \n",
       "\n",
       "                                                     image  image_top_1  \\\n",
       "149897   cb10a3a216b0a4cc263c014d301994544a7295b618a3f4...        377.0   \n",
       "949093   1df51abffdbe0047a4ed51382e042fc9f2982db68eb019...         65.0   \n",
       "1159529  13bf8c97d43928cd6f029ef739069b2de8eace139993a0...       2219.0   \n",
       "240963   80e18072ad716079b1018fec02064b6bef59c7e932a50e...       2264.0   \n",
       "144247   1362f3e2b4b5686176a0decae0ee321d5bcfaa327a282a...       2929.0   \n",
       "\n",
       "         deal_probability  \n",
       "149897            0.00000  \n",
       "949093            0.00000  \n",
       "1159529           0.77865  \n",
       "240963            0.10260  \n",
       "144247            0.76786  "
      ]
     },
     "execution_count": 7,
     "metadata": {},
     "output_type": "execute_result"
    }
   ],
   "source": [
    "train_df.head()"
   ]
  },
  {
   "cell_type": "markdown",
   "metadata": {},
   "source": [
    "交易概率是我们的目标变量，这里进行一个可视化展示"
   ]
  },
  {
   "cell_type": "code",
   "execution_count": 22,
   "metadata": {},
   "outputs": [
    {
     "data": {
      "image/png": "[encoded data removed]",
      "text/plain": [
       "<Figure size 864x576 with 1 Axes>"
      ]
     },
     "metadata": {
      "needs_background": "light"
     },
     "output_type": "display_data"
    },
    {
     "data": {
      "image/png": "[encoded data removed]",
      "text/plain": [
       "<Figure size 576x432 with 1 Axes>"
      ]
     },
     "metadata": {
      "needs_background": "light"
     },
     "output_type": "display_data"
    }
   ],
   "source": [
    "plt.figure(figsize=(12,8))\n",
    "sns.distplot(train_df[\"deal_probability\"].values, bins=100, kde=False)\n",
    "plt.xlabel('Deal Probility', fontsize=12)\n",
    "plt.title(\"Deal Probability Histogram\", fontsize=14)\n",
    "plt.show()\n",
    "\n",
    "plt.figure(figsize=(8,6))\n",
    "plt.scatter(range(train_df.shape[0]), np.sort(train_df['deal_probability'].values))\n",
    "plt.xlabel('index', fontsize=12)\n",
    "plt.ylabel('deal probability', fontsize=12)\n",
    "plt.title(\"Deal Probability Distribution\", fontsize=14)\n",
    "plt.show()"
   ]
  },
  {
   "cell_type": "markdown",
   "metadata": {},
   "source": [
    "让我们看一下广告的区域分布"
   ]
  },
  {
   "cell_type": "code",
   "execution_count": 21,
   "metadata": {},
   "outputs": [
    {
     "data": {
      "application/vnd.plotly.v1+json": {
       "config": {
        "linkText": "Export to plot.ly",
        "plotlyServerURL": "https://plot.ly",
        "showLink": false
       },
       "data": [
        {
         "labels": [
          "Краснодарский край",
          "Ростовская область",
          "Свердловская область",
          "Татарстан",
          "Челябинская область",
          "Самарская область",
          "Нижегородская область",
          "Новосибирская область",
          "Башкортостан",
          "Пермский край",
          "Красноярский край",
          "Волгоградская область",
          "Омская область",
          "Саратовская область",
          "Кемеровская область",
          "Воронежская область",
          "Иркутская область",
          "Тюменская область",
          "Алтайский край",
          "Ставропольский край",
          "Ярославская область",
          "Калининградская область",
          "Ханты-Мансийский АО",
          "Оренбургская область",
          "Удмуртия",
          "Белгородская область",
          "Владимирская область",
          "Тульская область"
         ],
         "type": "pie",
         "uid": "995b6522-6024-4e06-8751-348d6ee4b488",
         "values": [
          9.44,
          6.370000000000001,
          6.29,
          5.1499999999999995,
          5.13,
          5.050000000000001,
          4.91,
          4.35,
          4.35,
          4.16,
          3.51,
          3.2399999999999998,
          3.19,
          3.1300000000000003,
          3.04,
          2.9000000000000004,
          2.88,
          2.6100000000000003,
          2.54,
          2.46,
          2.23,
          2.18,
          2.16,
          1.8399999999999999,
          1.8399999999999999,
          1.83,
          1.67,
          1.55
         ]
        }
       ],
       "layout": {
        "height": 600,
        "title": {
         "text": "Region distribution"
        },
        "width": 600
       }
      },
      "text/html": [
       "<div id=\"febc3dfe-7359-4cfa-9311-5c332c0fdf6a\" style=\"height: 600px; width: 600px;\" class=\"plotly-graph-div\"></div><script type=\"text/javascript\">require([\"plotly\"], function(Plotly) { window.PLOTLYENV=window.PLOTLYENV || {};window.PLOTLYENV.BASE_URL=\"https://plot.ly\";\n",
       "if (document.getElementById(\"febc3dfe-7359-4cfa-9311-5c332c0fdf6a\")) {\n",
       "    Plotly.newPlot(\"febc3dfe-7359-4cfa-9311-5c332c0fdf6a\", [{\"labels\": [\"\\u041a\\u0440\\u0430\\u0441\\u043d\\u043e\\u0434\\u0430\\u0440\\u0441\\u043a\\u0438\\u0439 \\u043a\\u0440\\u0430\\u0439\", \"\\u0420\\u043e\\u0441\\u0442\\u043e\\u0432\\u0441\\u043a\\u0430\\u044f \\u043e\\u0431\\u043b\\u0430\\u0441\\u0442\\u044c\", \"\\u0421\\u0432\\u0435\\u0440\\u0434\\u043b\\u043e\\u0432\\u0441\\u043a\\u0430\\u044f \\u043e\\u0431\\u043b\\u0430\\u0441\\u0442\\u044c\", \"\\u0422\\u0430\\u0442\\u0430\\u0440\\u0441\\u0442\\u0430\\u043d\", \"\\u0427\\u0435\\u043b\\u044f\\u0431\\u0438\\u043d\\u0441\\u043a\\u0430\\u044f \\u043e\\u0431\\u043b\\u0430\\u0441\\u0442\\u044c\", \"\\u0421\\u0430\\u043c\\u0430\\u0440\\u0441\\u043a\\u0430\\u044f \\u043e\\u0431\\u043b\\u0430\\u0441\\u0442\\u044c\", \"\\u041d\\u0438\\u0436\\u0435\\u0433\\u043e\\u0440\\u043e\\u0434\\u0441\\u043a\\u0430\\u044f \\u043e\\u0431\\u043b\\u0430\\u0441\\u0442\\u044c\", \"\\u041d\\u043e\\u0432\\u043e\\u0441\\u0438\\u0431\\u0438\\u0440\\u0441\\u043a\\u0430\\u044f \\u043e\\u0431\\u043b\\u0430\\u0441\\u0442\\u044c\", \"\\u0411\\u0430\\u0448\\u043a\\u043e\\u0440\\u0442\\u043e\\u0441\\u0442\\u0430\\u043d\", \"\\u041f\\u0435\\u0440\\u043c\\u0441\\u043a\\u0438\\u0439 \\u043a\\u0440\\u0430\\u0439\", \"\\u041a\\u0440\\u0430\\u0441\\u043d\\u043e\\u044f\\u0440\\u0441\\u043a\\u0438\\u0439 \\u043a\\u0440\\u0430\\u0439\", \"\\u0412\\u043e\\u043b\\u0433\\u043e\\u0433\\u0440\\u0430\\u0434\\u0441\\u043a\\u0430\\u044f \\u043e\\u0431\\u043b\\u0430\\u0441\\u0442\\u044c\", \"\\u041e\\u043c\\u0441\\u043a\\u0430\\u044f \\u043e\\u0431\\u043b\\u0430\\u0441\\u0442\\u044c\", \"\\u0421\\u0430\\u0440\\u0430\\u0442\\u043e\\u0432\\u0441\\u043a\\u0430\\u044f \\u043e\\u0431\\u043b\\u0430\\u0441\\u0442\\u044c\", \"\\u041a\\u0435\\u043c\\u0435\\u0440\\u043e\\u0432\\u0441\\u043a\\u0430\\u044f \\u043e\\u0431\\u043b\\u0430\\u0441\\u0442\\u044c\", \"\\u0412\\u043e\\u0440\\u043e\\u043d\\u0435\\u0436\\u0441\\u043a\\u0430\\u044f \\u043e\\u0431\\u043b\\u0430\\u0441\\u0442\\u044c\", \"\\u0418\\u0440\\u043a\\u0443\\u0442\\u0441\\u043a\\u0430\\u044f \\u043e\\u0431\\u043b\\u0430\\u0441\\u0442\\u044c\", \"\\u0422\\u044e\\u043c\\u0435\\u043d\\u0441\\u043a\\u0430\\u044f \\u043e\\u0431\\u043b\\u0430\\u0441\\u0442\\u044c\", \"\\u0410\\u043b\\u0442\\u0430\\u0439\\u0441\\u043a\\u0438\\u0439 \\u043a\\u0440\\u0430\\u0439\", \"\\u0421\\u0442\\u0430\\u0432\\u0440\\u043e\\u043f\\u043e\\u043b\\u044c\\u0441\\u043a\\u0438\\u0439 \\u043a\\u0440\\u0430\\u0439\", \"\\u042f\\u0440\\u043e\\u0441\\u043b\\u0430\\u0432\\u0441\\u043a\\u0430\\u044f \\u043e\\u0431\\u043b\\u0430\\u0441\\u0442\\u044c\", \"\\u041a\\u0430\\u043b\\u0438\\u043d\\u0438\\u043d\\u0433\\u0440\\u0430\\u0434\\u0441\\u043a\\u0430\\u044f \\u043e\\u0431\\u043b\\u0430\\u0441\\u0442\\u044c\", \"\\u0425\\u0430\\u043d\\u0442\\u044b-\\u041c\\u0430\\u043d\\u0441\\u0438\\u0439\\u0441\\u043a\\u0438\\u0439 \\u0410\\u041e\", \"\\u041e\\u0440\\u0435\\u043d\\u0431\\u0443\\u0440\\u0433\\u0441\\u043a\\u0430\\u044f \\u043e\\u0431\\u043b\\u0430\\u0441\\u0442\\u044c\", \"\\u0423\\u0434\\u043c\\u0443\\u0440\\u0442\\u0438\\u044f\", \"\\u0411\\u0435\\u043b\\u0433\\u043e\\u0440\\u043e\\u0434\\u0441\\u043a\\u0430\\u044f \\u043e\\u0431\\u043b\\u0430\\u0441\\u0442\\u044c\", \"\\u0412\\u043b\\u0430\\u0434\\u0438\\u043c\\u0438\\u0440\\u0441\\u043a\\u0430\\u044f \\u043e\\u0431\\u043b\\u0430\\u0441\\u0442\\u044c\", \"\\u0422\\u0443\\u043b\\u044c\\u0441\\u043a\\u0430\\u044f \\u043e\\u0431\\u043b\\u0430\\u0441\\u0442\\u044c\"], \"values\": [9.44, 6.370000000000001, 6.29, 5.1499999999999995, 5.13, 5.050000000000001, 4.91, 4.35, 4.35, 4.16, 3.51, 3.2399999999999998, 3.19, 3.1300000000000003, 3.04, 2.9000000000000004, 2.88, 2.6100000000000003, 2.54, 2.46, 2.23, 2.18, 2.16, 1.8399999999999999, 1.8399999999999999, 1.83, 1.67, 1.55], \"type\": \"pie\", \"uid\": \"995b6522-6024-4e06-8751-348d6ee4b488\"}], {\"height\": 600, \"title\": {\"text\": \"Region distribution\"}, \"width\": 600}, {\"showLink\": false, \"linkText\": \"Export to plot.ly\", \"plotlyServerURL\": \"https://plot.ly\"}); \n",
       "}\n",
       "});</script>"
      ],
      "text/vnd.plotly.v1+html": [
       "<div id=\"febc3dfe-7359-4cfa-9311-5c332c0fdf6a\" style=\"height: 600px; width: 600px;\" class=\"plotly-graph-div\"></div><script type=\"text/javascript\">require([\"plotly\"], function(Plotly) { window.PLOTLYENV=window.PLOTLYENV || {};window.PLOTLYENV.BASE_URL=\"https://plot.ly\";\n",
       "if (document.getElementById(\"febc3dfe-7359-4cfa-9311-5c332c0fdf6a\")) {\n",
       "    Plotly.newPlot(\"febc3dfe-7359-4cfa-9311-5c332c0fdf6a\", [{\"labels\": [\"\\u041a\\u0440\\u0430\\u0441\\u043d\\u043e\\u0434\\u0430\\u0440\\u0441\\u043a\\u0438\\u0439 \\u043a\\u0440\\u0430\\u0439\", \"\\u0420\\u043e\\u0441\\u0442\\u043e\\u0432\\u0441\\u043a\\u0430\\u044f \\u043e\\u0431\\u043b\\u0430\\u0441\\u0442\\u044c\", \"\\u0421\\u0432\\u0435\\u0440\\u0434\\u043b\\u043e\\u0432\\u0441\\u043a\\u0430\\u044f \\u043e\\u0431\\u043b\\u0430\\u0441\\u0442\\u044c\", \"\\u0422\\u0430\\u0442\\u0430\\u0440\\u0441\\u0442\\u0430\\u043d\", \"\\u0427\\u0435\\u043b\\u044f\\u0431\\u0438\\u043d\\u0441\\u043a\\u0430\\u044f \\u043e\\u0431\\u043b\\u0430\\u0441\\u0442\\u044c\", \"\\u0421\\u0430\\u043c\\u0430\\u0440\\u0441\\u043a\\u0430\\u044f \\u043e\\u0431\\u043b\\u0430\\u0441\\u0442\\u044c\", \"\\u041d\\u0438\\u0436\\u0435\\u0433\\u043e\\u0440\\u043e\\u0434\\u0441\\u043a\\u0430\\u044f \\u043e\\u0431\\u043b\\u0430\\u0441\\u0442\\u044c\", \"\\u041d\\u043e\\u0432\\u043e\\u0441\\u0438\\u0431\\u0438\\u0440\\u0441\\u043a\\u0430\\u044f \\u043e\\u0431\\u043b\\u0430\\u0441\\u0442\\u044c\", \"\\u0411\\u0430\\u0448\\u043a\\u043e\\u0440\\u0442\\u043e\\u0441\\u0442\\u0430\\u043d\", \"\\u041f\\u0435\\u0440\\u043c\\u0441\\u043a\\u0438\\u0439 \\u043a\\u0440\\u0430\\u0439\", \"\\u041a\\u0440\\u0430\\u0441\\u043d\\u043e\\u044f\\u0440\\u0441\\u043a\\u0438\\u0439 \\u043a\\u0440\\u0430\\u0439\", \"\\u0412\\u043e\\u043b\\u0433\\u043e\\u0433\\u0440\\u0430\\u0434\\u0441\\u043a\\u0430\\u044f \\u043e\\u0431\\u043b\\u0430\\u0441\\u0442\\u044c\", \"\\u041e\\u043c\\u0441\\u043a\\u0430\\u044f \\u043e\\u0431\\u043b\\u0430\\u0441\\u0442\\u044c\", \"\\u0421\\u0430\\u0440\\u0430\\u0442\\u043e\\u0432\\u0441\\u043a\\u0430\\u044f \\u043e\\u0431\\u043b\\u0430\\u0441\\u0442\\u044c\", \"\\u041a\\u0435\\u043c\\u0435\\u0440\\u043e\\u0432\\u0441\\u043a\\u0430\\u044f \\u043e\\u0431\\u043b\\u0430\\u0441\\u0442\\u044c\", \"\\u0412\\u043e\\u0440\\u043e\\u043d\\u0435\\u0436\\u0441\\u043a\\u0430\\u044f \\u043e\\u0431\\u043b\\u0430\\u0441\\u0442\\u044c\", \"\\u0418\\u0440\\u043a\\u0443\\u0442\\u0441\\u043a\\u0430\\u044f \\u043e\\u0431\\u043b\\u0430\\u0441\\u0442\\u044c\", \"\\u0422\\u044e\\u043c\\u0435\\u043d\\u0441\\u043a\\u0430\\u044f \\u043e\\u0431\\u043b\\u0430\\u0441\\u0442\\u044c\", \"\\u0410\\u043b\\u0442\\u0430\\u0439\\u0441\\u043a\\u0438\\u0439 \\u043a\\u0440\\u0430\\u0439\", \"\\u0421\\u0442\\u0430\\u0432\\u0440\\u043e\\u043f\\u043e\\u043b\\u044c\\u0441\\u043a\\u0438\\u0439 \\u043a\\u0440\\u0430\\u0439\", \"\\u042f\\u0440\\u043e\\u0441\\u043b\\u0430\\u0432\\u0441\\u043a\\u0430\\u044f \\u043e\\u0431\\u043b\\u0430\\u0441\\u0442\\u044c\", \"\\u041a\\u0430\\u043b\\u0438\\u043d\\u0438\\u043d\\u0433\\u0440\\u0430\\u0434\\u0441\\u043a\\u0430\\u044f \\u043e\\u0431\\u043b\\u0430\\u0441\\u0442\\u044c\", \"\\u0425\\u0430\\u043d\\u0442\\u044b-\\u041c\\u0430\\u043d\\u0441\\u0438\\u0439\\u0441\\u043a\\u0438\\u0439 \\u0410\\u041e\", \"\\u041e\\u0440\\u0435\\u043d\\u0431\\u0443\\u0440\\u0433\\u0441\\u043a\\u0430\\u044f \\u043e\\u0431\\u043b\\u0430\\u0441\\u0442\\u044c\", \"\\u0423\\u0434\\u043c\\u0443\\u0440\\u0442\\u0438\\u044f\", \"\\u0411\\u0435\\u043b\\u0433\\u043e\\u0440\\u043e\\u0434\\u0441\\u043a\\u0430\\u044f \\u043e\\u0431\\u043b\\u0430\\u0441\\u0442\\u044c\", \"\\u0412\\u043b\\u0430\\u0434\\u0438\\u043c\\u0438\\u0440\\u0441\\u043a\\u0430\\u044f \\u043e\\u0431\\u043b\\u0430\\u0441\\u0442\\u044c\", \"\\u0422\\u0443\\u043b\\u044c\\u0441\\u043a\\u0430\\u044f \\u043e\\u0431\\u043b\\u0430\\u0441\\u0442\\u044c\"], \"values\": [9.44, 6.370000000000001, 6.29, 5.1499999999999995, 5.13, 5.050000000000001, 4.91, 4.35, 4.35, 4.16, 3.51, 3.2399999999999998, 3.19, 3.1300000000000003, 3.04, 2.9000000000000004, 2.88, 2.6100000000000003, 2.54, 2.46, 2.23, 2.18, 2.16, 1.8399999999999999, 1.8399999999999999, 1.83, 1.67, 1.55], \"type\": \"pie\", \"uid\": \"995b6522-6024-4e06-8751-348d6ee4b488\"}], {\"height\": 600, \"title\": {\"text\": \"Region distribution\"}, \"width\": 600}, {\"showLink\": false, \"linkText\": \"Export to plot.ly\", \"plotlyServerURL\": \"https://plot.ly\"}); \n",
       "}\n",
       "});</script>"
      ]
     },
     "metadata": {},
     "output_type": "display_data"
    }
   ],
   "source": [
    "tmp_series = train_df['region'].value_counts()\n",
    "tmp_series.index\n",
    "\n",
    "labels = (np.array(tmp_series.index)) #['Краснодарский край', 'Ростовская область',...\n",
    "sizes = (np.array((tmp_series / tmp_series.sum())*100))\n",
    "\n",
    "trace = go.Pie(labels=labels, values=sizes)\n",
    "layout = go.Layout(\n",
    "    title=\"Region distribution\",\n",
    "    width = 600,\n",
    "    height = 600,\n",
    ")\n",
    "data = [trace]\n",
    "fig = go.Figure(data=data, layout=layout)\n",
    "py.iplot(fig, filename=\"region\")"
   ]
  },
  {
   "cell_type": "markdown",
   "metadata": {},
   "source": [
    "这些广告的地区分布在1.71%至9.41%之间。顶部区域是：\n",
    "\n",
    "Краснодарский край - 9.44%\n",
    "\n",
    "Ростовская область - 6.28%\n",
    "\n",
    "Свердловская область - 5.99%\n",
    "\n",
    "不同地区的交易概率"
   ]
  },
  {
   "cell_type": "code",
   "execution_count": 24,
   "metadata": {},
   "outputs": [
    {
     "data": {
      "image/png": "[encoded data removed]",
      "text/plain": [
       "<Figure size 864x576 with 1 Axes>"
      ]
     },
     "metadata": {
      "needs_background": "light"
     },
     "output_type": "display_data"
    }
   ],
   "source": [
    "plt.figure(figsize=(12, 8))\n",
    "sns.boxplot(y=\"region\", x=\"deal_probability\", data=train_df)\n",
    "plt.xlabel(\"Deal probability\", fontsize=12)\n",
    "plt.ylabel(\"Region\", fontsize=12)\n",
    "plt.title(\"Deal probability by region\")\n",
    "plt.xticks(rotation=\"vertical\")\n",
    "plt.show()"
   ]
  },
  {
   "cell_type": "markdown",
   "metadata": {},
   "source": [
    "现在让我们来看看数据集中出现的前20个城市。"
   ]
  },
  {
   "cell_type": "code",
   "execution_count": 33,
   "metadata": {},
   "outputs": [
    {
     "data": {
      "text/plain": [
       "Index(['Екатеринбург', 'Краснодар', 'Новосибирск', 'Ростов-на-Дону',\n",
       "       'Нижний Новгород', 'Челябинск', 'Пермь', 'Омск', 'Самара', 'Казань',\n",
       "       'Уфа', 'Красноярск', 'Воронеж', 'Тюмень', 'Волгоград', 'Саратов',\n",
       "       'Калининград', 'Иркутск', 'Барнаул', 'Ярославль'],\n",
       "      dtype='object')"
      ]
     },
     "execution_count": 33,
     "metadata": {},
     "output_type": "execute_result"
    }
   ],
   "source": [
    "cnt_srs = train_df['city'].value_counts().head(20)\n",
    "cnt_srs\n",
    "cnt_srs.index[::]"
   ]
  },
  {
   "cell_type": "code",
   "execution_count": 31,
   "metadata": {},
   "outputs": [
    {
     "data": {
      "application/vnd.plotly.v1+json": {
       "config": {
        "linkText": "Export to plot.ly",
        "plotlyServerURL": "https://plot.ly",
        "showLink": false
       },
       "data": [
        {
         "marker": {
          "color": [
           162,
           165,
           175,
           192,
           209,
           224,
           235,
           245,
           250,
           258,
           284,
           287,
           297,
           309,
           325,
           336,
           374,
           391,
           417,
           424
          ],
          "colorscale": "Blues",
          "reversescale": true
         },
         "orientation": "h",
         "type": "bar",
         "uid": "80baab74-6524-4179-b86d-f14dddb57c5e",
         "x": [
          162,
          165,
          175,
          192,
          209,
          224,
          235,
          245,
          250,
          258,
          284,
          287,
          297,
          309,
          325,
          336,
          374,
          391,
          417,
          424
         ],
         "y": [
          "Ярославль",
          "Барнаул",
          "Иркутск",
          "Калининград",
          "Саратов",
          "Волгоград",
          "Тюмень",
          "Воронеж",
          "Красноярск",
          "Уфа",
          "Казань",
          "Самара",
          "Омск",
          "Пермь",
          "Челябинск",
          "Нижний Новгород",
          "Ростов-на-Дону",
          "Новосибирск",
          "Краснодар",
          "Екатеринбург"
         ]
        }
       ],
       "layout": {
        "title": {
         "text": "City distribution of Ads"
        }
       }
      },
      "text/html": [
       "<div id=\"0e7c5683-ff7d-41db-8189-6b9611d769d3\" style=\"height: 525px; width: 100%;\" class=\"plotly-graph-div\"></div><script type=\"text/javascript\">require([\"plotly\"], function(Plotly) { window.PLOTLYENV=window.PLOTLYENV || {};window.PLOTLYENV.BASE_URL=\"https://plot.ly\";\n",
       "if (document.getElementById(\"0e7c5683-ff7d-41db-8189-6b9611d769d3\")) {\n",
       "    Plotly.newPlot(\"0e7c5683-ff7d-41db-8189-6b9611d769d3\", [{\"marker\": {\"color\": [162, 165, 175, 192, 209, 224, 235, 245, 250, 258, 284, 287, 297, 309, 325, 336, 374, 391, 417, 424], \"colorscale\": \"Blues\", \"reversescale\": true}, \"orientation\": \"h\", \"x\": [162, 165, 175, 192, 209, 224, 235, 245, 250, 258, 284, 287, 297, 309, 325, 336, 374, 391, 417, 424], \"y\": [\"\\u042f\\u0440\\u043e\\u0441\\u043b\\u0430\\u0432\\u043b\\u044c\", \"\\u0411\\u0430\\u0440\\u043d\\u0430\\u0443\\u043b\", \"\\u0418\\u0440\\u043a\\u0443\\u0442\\u0441\\u043a\", \"\\u041a\\u0430\\u043b\\u0438\\u043d\\u0438\\u043d\\u0433\\u0440\\u0430\\u0434\", \"\\u0421\\u0430\\u0440\\u0430\\u0442\\u043e\\u0432\", \"\\u0412\\u043e\\u043b\\u0433\\u043e\\u0433\\u0440\\u0430\\u0434\", \"\\u0422\\u044e\\u043c\\u0435\\u043d\\u044c\", \"\\u0412\\u043e\\u0440\\u043e\\u043d\\u0435\\u0436\", \"\\u041a\\u0440\\u0430\\u0441\\u043d\\u043e\\u044f\\u0440\\u0441\\u043a\", \"\\u0423\\u0444\\u0430\", \"\\u041a\\u0430\\u0437\\u0430\\u043d\\u044c\", \"\\u0421\\u0430\\u043c\\u0430\\u0440\\u0430\", \"\\u041e\\u043c\\u0441\\u043a\", \"\\u041f\\u0435\\u0440\\u043c\\u044c\", \"\\u0427\\u0435\\u043b\\u044f\\u0431\\u0438\\u043d\\u0441\\u043a\", \"\\u041d\\u0438\\u0436\\u043d\\u0438\\u0439 \\u041d\\u043e\\u0432\\u0433\\u043e\\u0440\\u043e\\u0434\", \"\\u0420\\u043e\\u0441\\u0442\\u043e\\u0432-\\u043d\\u0430-\\u0414\\u043e\\u043d\\u0443\", \"\\u041d\\u043e\\u0432\\u043e\\u0441\\u0438\\u0431\\u0438\\u0440\\u0441\\u043a\", \"\\u041a\\u0440\\u0430\\u0441\\u043d\\u043e\\u0434\\u0430\\u0440\", \"\\u0415\\u043a\\u0430\\u0442\\u0435\\u0440\\u0438\\u043d\\u0431\\u0443\\u0440\\u0433\"], \"type\": \"bar\", \"uid\": \"80baab74-6524-4179-b86d-f14dddb57c5e\"}], {\"title\": {\"text\": \"City distribution of Ads\"}}, {\"showLink\": false, \"linkText\": \"Export to plot.ly\", \"plotlyServerURL\": \"https://plot.ly\"}); \n",
       "}\n",
       "});</script><script type=\"text/javascript\">window.addEventListener(\"resize\", function(){if (document.getElementById(\"0e7c5683-ff7d-41db-8189-6b9611d769d3\")) {window._Plotly.Plots.resize(document.getElementById(\"0e7c5683-ff7d-41db-8189-6b9611d769d3\"));};})</script>"
      ],
      "text/vnd.plotly.v1+html": [
       "<div id=\"0e7c5683-ff7d-41db-8189-6b9611d769d3\" style=\"height: 525px; width: 100%;\" class=\"plotly-graph-div\"></div><script type=\"text/javascript\">require([\"plotly\"], function(Plotly) { window.PLOTLYENV=window.PLOTLYENV || {};window.PLOTLYENV.BASE_URL=\"https://plot.ly\";\n",
       "if (document.getElementById(\"0e7c5683-ff7d-41db-8189-6b9611d769d3\")) {\n",
       "    Plotly.newPlot(\"0e7c5683-ff7d-41db-8189-6b9611d769d3\", [{\"marker\": {\"color\": [162, 165, 175, 192, 209, 224, 235, 245, 250, 258, 284, 287, 297, 309, 325, 336, 374, 391, 417, 424], \"colorscale\": \"Blues\", \"reversescale\": true}, \"orientation\": \"h\", \"x\": [162, 165, 175, 192, 209, 224, 235, 245, 250, 258, 284, 287, 297, 309, 325, 336, 374, 391, 417, 424], \"y\": [\"\\u042f\\u0440\\u043e\\u0441\\u043b\\u0430\\u0432\\u043b\\u044c\", \"\\u0411\\u0430\\u0440\\u043d\\u0430\\u0443\\u043b\", \"\\u0418\\u0440\\u043a\\u0443\\u0442\\u0441\\u043a\", \"\\u041a\\u0430\\u043b\\u0438\\u043d\\u0438\\u043d\\u0433\\u0440\\u0430\\u0434\", \"\\u0421\\u0430\\u0440\\u0430\\u0442\\u043e\\u0432\", \"\\u0412\\u043e\\u043b\\u0433\\u043e\\u0433\\u0440\\u0430\\u0434\", \"\\u0422\\u044e\\u043c\\u0435\\u043d\\u044c\", \"\\u0412\\u043e\\u0440\\u043e\\u043d\\u0435\\u0436\", \"\\u041a\\u0440\\u0430\\u0441\\u043d\\u043e\\u044f\\u0440\\u0441\\u043a\", \"\\u0423\\u0444\\u0430\", \"\\u041a\\u0430\\u0437\\u0430\\u043d\\u044c\", \"\\u0421\\u0430\\u043c\\u0430\\u0440\\u0430\", \"\\u041e\\u043c\\u0441\\u043a\", \"\\u041f\\u0435\\u0440\\u043c\\u044c\", \"\\u0427\\u0435\\u043b\\u044f\\u0431\\u0438\\u043d\\u0441\\u043a\", \"\\u041d\\u0438\\u0436\\u043d\\u0438\\u0439 \\u041d\\u043e\\u0432\\u0433\\u043e\\u0440\\u043e\\u0434\", \"\\u0420\\u043e\\u0441\\u0442\\u043e\\u0432-\\u043d\\u0430-\\u0414\\u043e\\u043d\\u0443\", \"\\u041d\\u043e\\u0432\\u043e\\u0441\\u0438\\u0431\\u0438\\u0440\\u0441\\u043a\", \"\\u041a\\u0440\\u0430\\u0441\\u043d\\u043e\\u0434\\u0430\\u0440\", \"\\u0415\\u043a\\u0430\\u0442\\u0435\\u0440\\u0438\\u043d\\u0431\\u0443\\u0440\\u0433\"], \"type\": \"bar\", \"uid\": \"80baab74-6524-4179-b86d-f14dddb57c5e\"}], {\"title\": {\"text\": \"City distribution of Ads\"}}, {\"showLink\": false, \"linkText\": \"Export to plot.ly\", \"plotlyServerURL\": \"https://plot.ly\"}); \n",
       "}\n",
       "});</script><script type=\"text/javascript\">window.addEventListener(\"resize\", function(){if (document.getElementById(\"0e7c5683-ff7d-41db-8189-6b9611d769d3\")) {window._Plotly.Plots.resize(document.getElementById(\"0e7c5683-ff7d-41db-8189-6b9611d769d3\"));};})</script>"
      ]
     },
     "metadata": {},
     "output_type": "display_data"
    }
   ],
   "source": [
    "cnt_srs = train_df['city'].value_counts().head(20)\n",
    "trace = go.Bar(\n",
    "    y = cnt_srs.index[::-1],\n",
    "    x = cnt_srs.values[::-1],\n",
    "    orientation = 'h',\n",
    "    marker = dict(\n",
    "        color = cnt_srs.values[::-1],\n",
    "        colorscale = 'Blues',\n",
    "        reversescale = True\n",
    "    ),\n",
    ")\n",
    "\n",
    "layout = dict(\n",
    "    title = 'City distribution of Ads',\n",
    ")\n",
    "\n",
    "data = [trace]\n",
    "fig = go.Figure(data=data, layout=layout)\n",
    "py.iplot(fig, filename=\"CityAds\")"
   ]
  },
  {
   "cell_type": "markdown",
   "metadata": {},
   "source": [
    "点击最多的三个城市是：\n",
    "\n",
    "Екатеринбург\n",
    "\n",
    "Краснодар\n",
    "\n",
    "Новосибирск"
   ]
  },
  {
   "cell_type": "code",
   "execution_count": 38,
   "metadata": {},
   "outputs": [
    {
     "data": {
      "application/vnd.plotly.v1+json": {
       "config": {
        "linkText": "Export to plot.ly",
        "plotlyServerURL": "https://plot.ly",
        "showLink": false
       },
       "data": [
        {
         "labels": [
          "Личные вещи",
          "Для дома и дачи",
          "Бытовая электроника",
          "Недвижимость",
          "Хобби и отдых",
          "Транспорт",
          "Услуги",
          "Животные",
          "Для бизнеса"
         ],
         "type": "pie",
         "uid": "fc7b67d3-8f04-4411-a7ef-abb945e5f6d3",
         "values": [
          46.739999999999995,
          12.83,
          11.200000000000001,
          9.69,
          5.7700000000000005,
          5.16,
          4.04,
          3.37,
          1.2
         ]
        }
       ],
       "layout": {
        "height": 600,
        "title": {
         "text": "Parent Category distribution"
        },
        "width": 600
       }
      },
      "text/html": [
       "<div id=\"b8ced757-87bd-4669-abfa-f73f54a0e2ed\" style=\"height: 600px; width: 600px;\" class=\"plotly-graph-div\"></div><script type=\"text/javascript\">require([\"plotly\"], function(Plotly) { window.PLOTLYENV=window.PLOTLYENV || {};window.PLOTLYENV.BASE_URL=\"https://plot.ly\";\n",
       "if (document.getElementById(\"b8ced757-87bd-4669-abfa-f73f54a0e2ed\")) {\n",
       "    Plotly.newPlot(\"b8ced757-87bd-4669-abfa-f73f54a0e2ed\", [{\"labels\": [\"\\u041b\\u0438\\u0447\\u043d\\u044b\\u0435 \\u0432\\u0435\\u0449\\u0438\", \"\\u0414\\u043b\\u044f \\u0434\\u043e\\u043c\\u0430 \\u0438 \\u0434\\u0430\\u0447\\u0438\", \"\\u0411\\u044b\\u0442\\u043e\\u0432\\u0430\\u044f \\u044d\\u043b\\u0435\\u043a\\u0442\\u0440\\u043e\\u043d\\u0438\\u043a\\u0430\", \"\\u041d\\u0435\\u0434\\u0432\\u0438\\u0436\\u0438\\u043c\\u043e\\u0441\\u0442\\u044c\", \"\\u0425\\u043e\\u0431\\u0431\\u0438 \\u0438 \\u043e\\u0442\\u0434\\u044b\\u0445\", \"\\u0422\\u0440\\u0430\\u043d\\u0441\\u043f\\u043e\\u0440\\u0442\", \"\\u0423\\u0441\\u043b\\u0443\\u0433\\u0438\", \"\\u0416\\u0438\\u0432\\u043e\\u0442\\u043d\\u044b\\u0435\", \"\\u0414\\u043b\\u044f \\u0431\\u0438\\u0437\\u043d\\u0435\\u0441\\u0430\"], \"values\": [46.739999999999995, 12.83, 11.200000000000001, 9.69, 5.7700000000000005, 5.16, 4.04, 3.37, 1.2], \"type\": \"pie\", \"uid\": \"fc7b67d3-8f04-4411-a7ef-abb945e5f6d3\"}], {\"height\": 600, \"title\": {\"text\": \"Parent Category distribution\"}, \"width\": 600}, {\"showLink\": false, \"linkText\": \"Export to plot.ly\", \"plotlyServerURL\": \"https://plot.ly\"}); \n",
       "}\n",
       "});</script>"
      ],
      "text/vnd.plotly.v1+html": [
       "<div id=\"b8ced757-87bd-4669-abfa-f73f54a0e2ed\" style=\"height: 600px; width: 600px;\" class=\"plotly-graph-div\"></div><script type=\"text/javascript\">require([\"plotly\"], function(Plotly) { window.PLOTLYENV=window.PLOTLYENV || {};window.PLOTLYENV.BASE_URL=\"https://plot.ly\";\n",
       "if (document.getElementById(\"b8ced757-87bd-4669-abfa-f73f54a0e2ed\")) {\n",
       "    Plotly.newPlot(\"b8ced757-87bd-4669-abfa-f73f54a0e2ed\", [{\"labels\": [\"\\u041b\\u0438\\u0447\\u043d\\u044b\\u0435 \\u0432\\u0435\\u0449\\u0438\", \"\\u0414\\u043b\\u044f \\u0434\\u043e\\u043c\\u0430 \\u0438 \\u0434\\u0430\\u0447\\u0438\", \"\\u0411\\u044b\\u0442\\u043e\\u0432\\u0430\\u044f \\u044d\\u043b\\u0435\\u043a\\u0442\\u0440\\u043e\\u043d\\u0438\\u043a\\u0430\", \"\\u041d\\u0435\\u0434\\u0432\\u0438\\u0436\\u0438\\u043c\\u043e\\u0441\\u0442\\u044c\", \"\\u0425\\u043e\\u0431\\u0431\\u0438 \\u0438 \\u043e\\u0442\\u0434\\u044b\\u0445\", \"\\u0422\\u0440\\u0430\\u043d\\u0441\\u043f\\u043e\\u0440\\u0442\", \"\\u0423\\u0441\\u043b\\u0443\\u0433\\u0438\", \"\\u0416\\u0438\\u0432\\u043e\\u0442\\u043d\\u044b\\u0435\", \"\\u0414\\u043b\\u044f \\u0431\\u0438\\u0437\\u043d\\u0435\\u0441\\u0430\"], \"values\": [46.739999999999995, 12.83, 11.200000000000001, 9.69, 5.7700000000000005, 5.16, 4.04, 3.37, 1.2], \"type\": \"pie\", \"uid\": \"fc7b67d3-8f04-4411-a7ef-abb945e5f6d3\"}], {\"height\": 600, \"title\": {\"text\": \"Parent Category distribution\"}, \"width\": 600}, {\"showLink\": false, \"linkText\": \"Export to plot.ly\", \"plotlyServerURL\": \"https://plot.ly\"}); \n",
       "}\n",
       "});</script>"
      ]
     },
     "metadata": {},
     "output_type": "display_data"
    }
   ],
   "source": [
    "# 让我们查看顶级广告分类。\n",
    "tmp_series = train_df['parent_category_name'].value_counts()\n",
    "\n",
    "labels = (np.array(tmp_series.index))\n",
    "sizes = (np.array((tmp_series / tmp_series.sum())*100))\n",
    "\n",
    "trace = go.Pie(labels=labels, values=sizes)\n",
    "layout = go.Layout(\n",
    "    title = \"Parent Category distribution\",\n",
    "    width = 600,\n",
    "    height = 600,\n",
    ")\n",
    "\n",
    "data = [trace]\n",
    "fig = go.Figure(data=data, layout=layout)\n",
    "py.iplot(fig, filename=\"parentcategory\")"
   ]
  },
  {
   "cell_type": "markdown",
   "metadata": {},
   "source": [
    "46.7％的广告用于个人物品，12.8％用于家庭和花园，11.2％用于消费电子产品。"
   ]
  },
  {
   "cell_type": "markdown",
   "metadata": {},
   "source": [
    "顶级广告分类的点击率分布"
   ]
  },
  {
   "cell_type": "code",
   "execution_count": 41,
   "metadata": {
    "scrolled": true
   },
   "outputs": [
    {
     "data": {
      "image/png": "[encoded data removed]",
      "text/plain": [
       "<Figure size 720x432 with 1 Axes>"
      ]
     },
     "metadata": {
      "needs_background": "light"
     },
     "output_type": "display_data"
    }
   ],
   "source": [
    "plt.figure(figsize=(10, 6))\n",
    "sns.boxplot(x=\"parent_category_name\", y=\"deal_probability\", data=train_df)\n",
    "plt.ylabel('Deal probability', fontsize=12)\n",
    "plt.xlabel('Parent Category', fontsize=12)\n",
    "plt.title('Deal probability by parent category')\n",
    "plt.xticks(rotation=\"vertical\")\n",
    "plt.show()"
   ]
  },
  {
   "cell_type": "markdown",
   "metadata": {},
   "source": [
    "与其他类别相比，服务类的交易概率略高"
   ]
  },
  {
   "cell_type": "markdown",
   "metadata": {},
   "source": [
    "查看一下广告的类别"
   ]
  },
  {
   "cell_type": "code",
   "execution_count": 42,
   "metadata": {},
   "outputs": [
    {
     "data": {
      "application/vnd.plotly.v1+json": {
       "config": {
        "linkText": "Export to plot.ly",
        "plotlyServerURL": "https://plot.ly",
        "showLink": false
       },
       "data": [
        {
         "marker": {
          "color": [
           1,
           10,
           18,
           19,
           26,
           30,
           36,
           36,
           43,
           45,
           48,
           50,
           50,
           50,
           53,
           55,
           55,
           55,
           56,
           57,
           58,
           70,
           70,
           70,
           71,
           71,
           82,
           89,
           96,
           101,
           110,
           148,
           171,
           172,
           177,
           198,
           206,
           247,
           399,
           404,
           418,
           420,
           461,
           518,
           660,
           1839,
           1881
          ],
          "colorscale": "Blues",
          "reversescale": true
         },
         "orientation": "h",
         "type": "bar",
         "uid": "c4478519-c990-4cab-bfc1-b38a026a19f2",
         "x": [
          1,
          10,
          18,
          19,
          26,
          30,
          36,
          36,
          43,
          45,
          48,
          50,
          50,
          50,
          53,
          55,
          55,
          55,
          56,
          57,
          58,
          70,
          70,
          70,
          71,
          71,
          82,
          89,
          96,
          101,
          110,
          148,
          171,
          172,
          177,
          198,
          206,
          247,
          399,
          404,
          418,
          420,
          461,
          518,
          660,
          1839,
          1881
         ],
         "y": [
          "Недвижимость за рубежом",
          "Водный транспорт",
          "Билеты и путешествия",
          "Готовый бизнес",
          "Аквариум",
          "Настольные компьютеры",
          "Мотоциклы и мототехника",
          "Птицы",
          "Охота и рыбалка",
          "Планшеты и электронные книги",
          "Оргтехника и расходники",
          "Музыкальные инструменты",
          "Продукты питания",
          "Грузовики и спецтехника",
          "Товары для животных",
          "Фототехника",
          "Растения",
          "Коммерческая недвижимость",
          "Комнаты",
          "Ноутбуки",
          "Гаражи и машиноместа",
          "Книги и журналы",
          "Кошки",
          "Другие животные",
          "Велосипеды",
          "Посуда и товары для кухни",
          "Собаки",
          "Игры, приставки и программы",
          "Часы и украшения",
          "Оборудование для бизнеса",
          "Земельные участки",
          "Коллекционирование",
          "Дома, дачи, коттеджи",
          "Аудио и видео",
          "Спорт и отдых",
          "Красота и здоровье",
          "Товары для компьютера",
          "Бытовая техника",
          "Ремонт и строительство",
          "Предложение услуг",
          "Телефоны",
          "Автомобили",
          "Мебель и интерьер",
          "Квартиры",
          "Товары для детей и игрушки",
          "Детская одежда и обувь",
          "Одежда, обувь, аксессуары"
         ]
        }
       ],
       "layout": {
        "height": 900,
        "title": {
         "text": "Category Name of Ads - Count"
        }
       }
      },
      "text/html": [
       "<div id=\"43999eb3-1b4c-469e-a816-354ca0fac1e9\" style=\"height: 900px; width: 100%;\" class=\"plotly-graph-div\"></div><script type=\"text/javascript\">require([\"plotly\"], function(Plotly) { window.PLOTLYENV=window.PLOTLYENV || {};window.PLOTLYENV.BASE_URL=\"https://plot.ly\";\n",
       "if (document.getElementById(\"43999eb3-1b4c-469e-a816-354ca0fac1e9\")) {\n",
       "    Plotly.newPlot(\"43999eb3-1b4c-469e-a816-354ca0fac1e9\", [{\"marker\": {\"color\": [1, 10, 18, 19, 26, 30, 36, 36, 43, 45, 48, 50, 50, 50, 53, 55, 55, 55, 56, 57, 58, 70, 70, 70, 71, 71, 82, 89, 96, 101, 110, 148, 171, 172, 177, 198, 206, 247, 399, 404, 418, 420, 461, 518, 660, 1839, 1881], \"colorscale\": \"Blues\", \"reversescale\": true}, \"orientation\": \"h\", \"x\": [1, 10, 18, 19, 26, 30, 36, 36, 43, 45, 48, 50, 50, 50, 53, 55, 55, 55, 56, 57, 58, 70, 70, 70, 71, 71, 82, 89, 96, 101, 110, 148, 171, 172, 177, 198, 206, 247, 399, 404, 418, 420, 461, 518, 660, 1839, 1881], \"y\": [\"\\u041d\\u0435\\u0434\\u0432\\u0438\\u0436\\u0438\\u043c\\u043e\\u0441\\u0442\\u044c \\u0437\\u0430 \\u0440\\u0443\\u0431\\u0435\\u0436\\u043e\\u043c\", \"\\u0412\\u043e\\u0434\\u043d\\u044b\\u0439 \\u0442\\u0440\\u0430\\u043d\\u0441\\u043f\\u043e\\u0440\\u0442\", \"\\u0411\\u0438\\u043b\\u0435\\u0442\\u044b \\u0438 \\u043f\\u0443\\u0442\\u0435\\u0448\\u0435\\u0441\\u0442\\u0432\\u0438\\u044f\", \"\\u0413\\u043e\\u0442\\u043e\\u0432\\u044b\\u0439 \\u0431\\u0438\\u0437\\u043d\\u0435\\u0441\", \"\\u0410\\u043a\\u0432\\u0430\\u0440\\u0438\\u0443\\u043c\", \"\\u041d\\u0430\\u0441\\u0442\\u043e\\u043b\\u044c\\u043d\\u044b\\u0435 \\u043a\\u043e\\u043c\\u043f\\u044c\\u044e\\u0442\\u0435\\u0440\\u044b\", \"\\u041c\\u043e\\u0442\\u043e\\u0446\\u0438\\u043a\\u043b\\u044b \\u0438 \\u043c\\u043e\\u0442\\u043e\\u0442\\u0435\\u0445\\u043d\\u0438\\u043a\\u0430\", \"\\u041f\\u0442\\u0438\\u0446\\u044b\", \"\\u041e\\u0445\\u043e\\u0442\\u0430 \\u0438 \\u0440\\u044b\\u0431\\u0430\\u043b\\u043a\\u0430\", \"\\u041f\\u043b\\u0430\\u043d\\u0448\\u0435\\u0442\\u044b \\u0438 \\u044d\\u043b\\u0435\\u043a\\u0442\\u0440\\u043e\\u043d\\u043d\\u044b\\u0435 \\u043a\\u043d\\u0438\\u0433\\u0438\", \"\\u041e\\u0440\\u0433\\u0442\\u0435\\u0445\\u043d\\u0438\\u043a\\u0430 \\u0438 \\u0440\\u0430\\u0441\\u0445\\u043e\\u0434\\u043d\\u0438\\u043a\\u0438\", \"\\u041c\\u0443\\u0437\\u044b\\u043a\\u0430\\u043b\\u044c\\u043d\\u044b\\u0435 \\u0438\\u043d\\u0441\\u0442\\u0440\\u0443\\u043c\\u0435\\u043d\\u0442\\u044b\", \"\\u041f\\u0440\\u043e\\u0434\\u0443\\u043a\\u0442\\u044b \\u043f\\u0438\\u0442\\u0430\\u043d\\u0438\\u044f\", \"\\u0413\\u0440\\u0443\\u0437\\u043e\\u0432\\u0438\\u043a\\u0438 \\u0438 \\u0441\\u043f\\u0435\\u0446\\u0442\\u0435\\u0445\\u043d\\u0438\\u043a\\u0430\", \"\\u0422\\u043e\\u0432\\u0430\\u0440\\u044b \\u0434\\u043b\\u044f \\u0436\\u0438\\u0432\\u043e\\u0442\\u043d\\u044b\\u0445\", \"\\u0424\\u043e\\u0442\\u043e\\u0442\\u0435\\u0445\\u043d\\u0438\\u043a\\u0430\", \"\\u0420\\u0430\\u0441\\u0442\\u0435\\u043d\\u0438\\u044f\", \"\\u041a\\u043e\\u043c\\u043c\\u0435\\u0440\\u0447\\u0435\\u0441\\u043a\\u0430\\u044f \\u043d\\u0435\\u0434\\u0432\\u0438\\u0436\\u0438\\u043c\\u043e\\u0441\\u0442\\u044c\", \"\\u041a\\u043e\\u043c\\u043d\\u0430\\u0442\\u044b\", \"\\u041d\\u043e\\u0443\\u0442\\u0431\\u0443\\u043a\\u0438\", \"\\u0413\\u0430\\u0440\\u0430\\u0436\\u0438 \\u0438 \\u043c\\u0430\\u0448\\u0438\\u043d\\u043e\\u043c\\u0435\\u0441\\u0442\\u0430\", \"\\u041a\\u043d\\u0438\\u0433\\u0438 \\u0438 \\u0436\\u0443\\u0440\\u043d\\u0430\\u043b\\u044b\", \"\\u041a\\u043e\\u0448\\u043a\\u0438\", \"\\u0414\\u0440\\u0443\\u0433\\u0438\\u0435 \\u0436\\u0438\\u0432\\u043e\\u0442\\u043d\\u044b\\u0435\", \"\\u0412\\u0435\\u043b\\u043e\\u0441\\u0438\\u043f\\u0435\\u0434\\u044b\", \"\\u041f\\u043e\\u0441\\u0443\\u0434\\u0430 \\u0438 \\u0442\\u043e\\u0432\\u0430\\u0440\\u044b \\u0434\\u043b\\u044f \\u043a\\u0443\\u0445\\u043d\\u0438\", \"\\u0421\\u043e\\u0431\\u0430\\u043a\\u0438\", \"\\u0418\\u0433\\u0440\\u044b, \\u043f\\u0440\\u0438\\u0441\\u0442\\u0430\\u0432\\u043a\\u0438 \\u0438 \\u043f\\u0440\\u043e\\u0433\\u0440\\u0430\\u043c\\u043c\\u044b\", \"\\u0427\\u0430\\u0441\\u044b \\u0438 \\u0443\\u043a\\u0440\\u0430\\u0448\\u0435\\u043d\\u0438\\u044f\", \"\\u041e\\u0431\\u043e\\u0440\\u0443\\u0434\\u043e\\u0432\\u0430\\u043d\\u0438\\u0435 \\u0434\\u043b\\u044f \\u0431\\u0438\\u0437\\u043d\\u0435\\u0441\\u0430\", \"\\u0417\\u0435\\u043c\\u0435\\u043b\\u044c\\u043d\\u044b\\u0435 \\u0443\\u0447\\u0430\\u0441\\u0442\\u043a\\u0438\", \"\\u041a\\u043e\\u043b\\u043b\\u0435\\u043a\\u0446\\u0438\\u043e\\u043d\\u0438\\u0440\\u043e\\u0432\\u0430\\u043d\\u0438\\u0435\", \"\\u0414\\u043e\\u043c\\u0430, \\u0434\\u0430\\u0447\\u0438, \\u043a\\u043e\\u0442\\u0442\\u0435\\u0434\\u0436\\u0438\", \"\\u0410\\u0443\\u0434\\u0438\\u043e \\u0438 \\u0432\\u0438\\u0434\\u0435\\u043e\", \"\\u0421\\u043f\\u043e\\u0440\\u0442 \\u0438 \\u043e\\u0442\\u0434\\u044b\\u0445\", \"\\u041a\\u0440\\u0430\\u0441\\u043e\\u0442\\u0430 \\u0438 \\u0437\\u0434\\u043e\\u0440\\u043e\\u0432\\u044c\\u0435\", \"\\u0422\\u043e\\u0432\\u0430\\u0440\\u044b \\u0434\\u043b\\u044f \\u043a\\u043e\\u043c\\u043f\\u044c\\u044e\\u0442\\u0435\\u0440\\u0430\", \"\\u0411\\u044b\\u0442\\u043e\\u0432\\u0430\\u044f \\u0442\\u0435\\u0445\\u043d\\u0438\\u043a\\u0430\", \"\\u0420\\u0435\\u043c\\u043e\\u043d\\u0442 \\u0438 \\u0441\\u0442\\u0440\\u043e\\u0438\\u0442\\u0435\\u043b\\u044c\\u0441\\u0442\\u0432\\u043e\", \"\\u041f\\u0440\\u0435\\u0434\\u043b\\u043e\\u0436\\u0435\\u043d\\u0438\\u0435 \\u0443\\u0441\\u043b\\u0443\\u0433\", \"\\u0422\\u0435\\u043b\\u0435\\u0444\\u043e\\u043d\\u044b\", \"\\u0410\\u0432\\u0442\\u043e\\u043c\\u043e\\u0431\\u0438\\u043b\\u0438\", \"\\u041c\\u0435\\u0431\\u0435\\u043b\\u044c \\u0438 \\u0438\\u043d\\u0442\\u0435\\u0440\\u044c\\u0435\\u0440\", \"\\u041a\\u0432\\u0430\\u0440\\u0442\\u0438\\u0440\\u044b\", \"\\u0422\\u043e\\u0432\\u0430\\u0440\\u044b \\u0434\\u043b\\u044f \\u0434\\u0435\\u0442\\u0435\\u0439 \\u0438 \\u0438\\u0433\\u0440\\u0443\\u0448\\u043a\\u0438\", \"\\u0414\\u0435\\u0442\\u0441\\u043a\\u0430\\u044f \\u043e\\u0434\\u0435\\u0436\\u0434\\u0430 \\u0438 \\u043e\\u0431\\u0443\\u0432\\u044c\", \"\\u041e\\u0434\\u0435\\u0436\\u0434\\u0430, \\u043e\\u0431\\u0443\\u0432\\u044c, \\u0430\\u043a\\u0441\\u0435\\u0441\\u0441\\u0443\\u0430\\u0440\\u044b\"], \"type\": \"bar\", \"uid\": \"c4478519-c990-4cab-bfc1-b38a026a19f2\"}], {\"height\": 900, \"title\": {\"text\": \"Category Name of Ads - Count\"}}, {\"showLink\": false, \"linkText\": \"Export to plot.ly\", \"plotlyServerURL\": \"https://plot.ly\"}); \n",
       "}\n",
       "});</script><script type=\"text/javascript\">window.addEventListener(\"resize\", function(){if (document.getElementById(\"43999eb3-1b4c-469e-a816-354ca0fac1e9\")) {window._Plotly.Plots.resize(document.getElementById(\"43999eb3-1b4c-469e-a816-354ca0fac1e9\"));};})</script>"
      ],
      "text/vnd.plotly.v1+html": [
       "<div id=\"43999eb3-1b4c-469e-a816-354ca0fac1e9\" style=\"height: 900px; width: 100%;\" class=\"plotly-graph-div\"></div><script type=\"text/javascript\">require([\"plotly\"], function(Plotly) { window.PLOTLYENV=window.PLOTLYENV || {};window.PLOTLYENV.BASE_URL=\"https://plot.ly\";\n",
       "if (document.getElementById(\"43999eb3-1b4c-469e-a816-354ca0fac1e9\")) {\n",
       "    Plotly.newPlot(\"43999eb3-1b4c-469e-a816-354ca0fac1e9\", [{\"marker\": {\"color\": [1, 10, 18, 19, 26, 30, 36, 36, 43, 45, 48, 50, 50, 50, 53, 55, 55, 55, 56, 57, 58, 70, 70, 70, 71, 71, 82, 89, 96, 101, 110, 148, 171, 172, 177, 198, 206, 247, 399, 404, 418, 420, 461, 518, 660, 1839, 1881], \"colorscale\": \"Blues\", \"reversescale\": true}, \"orientation\": \"h\", \"x\": [1, 10, 18, 19, 26, 30, 36, 36, 43, 45, 48, 50, 50, 50, 53, 55, 55, 55, 56, 57, 58, 70, 70, 70, 71, 71, 82, 89, 96, 101, 110, 148, 171, 172, 177, 198, 206, 247, 399, 404, 418, 420, 461, 518, 660, 1839, 1881], \"y\": [\"\\u041d\\u0435\\u0434\\u0432\\u0438\\u0436\\u0438\\u043c\\u043e\\u0441\\u0442\\u044c \\u0437\\u0430 \\u0440\\u0443\\u0431\\u0435\\u0436\\u043e\\u043c\", \"\\u0412\\u043e\\u0434\\u043d\\u044b\\u0439 \\u0442\\u0440\\u0430\\u043d\\u0441\\u043f\\u043e\\u0440\\u0442\", \"\\u0411\\u0438\\u043b\\u0435\\u0442\\u044b \\u0438 \\u043f\\u0443\\u0442\\u0435\\u0448\\u0435\\u0441\\u0442\\u0432\\u0438\\u044f\", \"\\u0413\\u043e\\u0442\\u043e\\u0432\\u044b\\u0439 \\u0431\\u0438\\u0437\\u043d\\u0435\\u0441\", \"\\u0410\\u043a\\u0432\\u0430\\u0440\\u0438\\u0443\\u043c\", \"\\u041d\\u0430\\u0441\\u0442\\u043e\\u043b\\u044c\\u043d\\u044b\\u0435 \\u043a\\u043e\\u043c\\u043f\\u044c\\u044e\\u0442\\u0435\\u0440\\u044b\", \"\\u041c\\u043e\\u0442\\u043e\\u0446\\u0438\\u043a\\u043b\\u044b \\u0438 \\u043c\\u043e\\u0442\\u043e\\u0442\\u0435\\u0445\\u043d\\u0438\\u043a\\u0430\", \"\\u041f\\u0442\\u0438\\u0446\\u044b\", \"\\u041e\\u0445\\u043e\\u0442\\u0430 \\u0438 \\u0440\\u044b\\u0431\\u0430\\u043b\\u043a\\u0430\", \"\\u041f\\u043b\\u0430\\u043d\\u0448\\u0435\\u0442\\u044b \\u0438 \\u044d\\u043b\\u0435\\u043a\\u0442\\u0440\\u043e\\u043d\\u043d\\u044b\\u0435 \\u043a\\u043d\\u0438\\u0433\\u0438\", \"\\u041e\\u0440\\u0433\\u0442\\u0435\\u0445\\u043d\\u0438\\u043a\\u0430 \\u0438 \\u0440\\u0430\\u0441\\u0445\\u043e\\u0434\\u043d\\u0438\\u043a\\u0438\", \"\\u041c\\u0443\\u0437\\u044b\\u043a\\u0430\\u043b\\u044c\\u043d\\u044b\\u0435 \\u0438\\u043d\\u0441\\u0442\\u0440\\u0443\\u043c\\u0435\\u043d\\u0442\\u044b\", \"\\u041f\\u0440\\u043e\\u0434\\u0443\\u043a\\u0442\\u044b \\u043f\\u0438\\u0442\\u0430\\u043d\\u0438\\u044f\", \"\\u0413\\u0440\\u0443\\u0437\\u043e\\u0432\\u0438\\u043a\\u0438 \\u0438 \\u0441\\u043f\\u0435\\u0446\\u0442\\u0435\\u0445\\u043d\\u0438\\u043a\\u0430\", \"\\u0422\\u043e\\u0432\\u0430\\u0440\\u044b \\u0434\\u043b\\u044f \\u0436\\u0438\\u0432\\u043e\\u0442\\u043d\\u044b\\u0445\", \"\\u0424\\u043e\\u0442\\u043e\\u0442\\u0435\\u0445\\u043d\\u0438\\u043a\\u0430\", \"\\u0420\\u0430\\u0441\\u0442\\u0435\\u043d\\u0438\\u044f\", \"\\u041a\\u043e\\u043c\\u043c\\u0435\\u0440\\u0447\\u0435\\u0441\\u043a\\u0430\\u044f \\u043d\\u0435\\u0434\\u0432\\u0438\\u0436\\u0438\\u043c\\u043e\\u0441\\u0442\\u044c\", \"\\u041a\\u043e\\u043c\\u043d\\u0430\\u0442\\u044b\", \"\\u041d\\u043e\\u0443\\u0442\\u0431\\u0443\\u043a\\u0438\", \"\\u0413\\u0430\\u0440\\u0430\\u0436\\u0438 \\u0438 \\u043c\\u0430\\u0448\\u0438\\u043d\\u043e\\u043c\\u0435\\u0441\\u0442\\u0430\", \"\\u041a\\u043d\\u0438\\u0433\\u0438 \\u0438 \\u0436\\u0443\\u0440\\u043d\\u0430\\u043b\\u044b\", \"\\u041a\\u043e\\u0448\\u043a\\u0438\", \"\\u0414\\u0440\\u0443\\u0433\\u0438\\u0435 \\u0436\\u0438\\u0432\\u043e\\u0442\\u043d\\u044b\\u0435\", \"\\u0412\\u0435\\u043b\\u043e\\u0441\\u0438\\u043f\\u0435\\u0434\\u044b\", \"\\u041f\\u043e\\u0441\\u0443\\u0434\\u0430 \\u0438 \\u0442\\u043e\\u0432\\u0430\\u0440\\u044b \\u0434\\u043b\\u044f \\u043a\\u0443\\u0445\\u043d\\u0438\", \"\\u0421\\u043e\\u0431\\u0430\\u043a\\u0438\", \"\\u0418\\u0433\\u0440\\u044b, \\u043f\\u0440\\u0438\\u0441\\u0442\\u0430\\u0432\\u043a\\u0438 \\u0438 \\u043f\\u0440\\u043e\\u0433\\u0440\\u0430\\u043c\\u043c\\u044b\", \"\\u0427\\u0430\\u0441\\u044b \\u0438 \\u0443\\u043a\\u0440\\u0430\\u0448\\u0435\\u043d\\u0438\\u044f\", \"\\u041e\\u0431\\u043e\\u0440\\u0443\\u0434\\u043e\\u0432\\u0430\\u043d\\u0438\\u0435 \\u0434\\u043b\\u044f \\u0431\\u0438\\u0437\\u043d\\u0435\\u0441\\u0430\", \"\\u0417\\u0435\\u043c\\u0435\\u043b\\u044c\\u043d\\u044b\\u0435 \\u0443\\u0447\\u0430\\u0441\\u0442\\u043a\\u0438\", \"\\u041a\\u043e\\u043b\\u043b\\u0435\\u043a\\u0446\\u0438\\u043e\\u043d\\u0438\\u0440\\u043e\\u0432\\u0430\\u043d\\u0438\\u0435\", \"\\u0414\\u043e\\u043c\\u0430, \\u0434\\u0430\\u0447\\u0438, \\u043a\\u043e\\u0442\\u0442\\u0435\\u0434\\u0436\\u0438\", \"\\u0410\\u0443\\u0434\\u0438\\u043e \\u0438 \\u0432\\u0438\\u0434\\u0435\\u043e\", \"\\u0421\\u043f\\u043e\\u0440\\u0442 \\u0438 \\u043e\\u0442\\u0434\\u044b\\u0445\", \"\\u041a\\u0440\\u0430\\u0441\\u043e\\u0442\\u0430 \\u0438 \\u0437\\u0434\\u043e\\u0440\\u043e\\u0432\\u044c\\u0435\", \"\\u0422\\u043e\\u0432\\u0430\\u0440\\u044b \\u0434\\u043b\\u044f \\u043a\\u043e\\u043c\\u043f\\u044c\\u044e\\u0442\\u0435\\u0440\\u0430\", \"\\u0411\\u044b\\u0442\\u043e\\u0432\\u0430\\u044f \\u0442\\u0435\\u0445\\u043d\\u0438\\u043a\\u0430\", \"\\u0420\\u0435\\u043c\\u043e\\u043d\\u0442 \\u0438 \\u0441\\u0442\\u0440\\u043e\\u0438\\u0442\\u0435\\u043b\\u044c\\u0441\\u0442\\u0432\\u043e\", \"\\u041f\\u0440\\u0435\\u0434\\u043b\\u043e\\u0436\\u0435\\u043d\\u0438\\u0435 \\u0443\\u0441\\u043b\\u0443\\u0433\", \"\\u0422\\u0435\\u043b\\u0435\\u0444\\u043e\\u043d\\u044b\", \"\\u0410\\u0432\\u0442\\u043e\\u043c\\u043e\\u0431\\u0438\\u043b\\u0438\", \"\\u041c\\u0435\\u0431\\u0435\\u043b\\u044c \\u0438 \\u0438\\u043d\\u0442\\u0435\\u0440\\u044c\\u0435\\u0440\", \"\\u041a\\u0432\\u0430\\u0440\\u0442\\u0438\\u0440\\u044b\", \"\\u0422\\u043e\\u0432\\u0430\\u0440\\u044b \\u0434\\u043b\\u044f \\u0434\\u0435\\u0442\\u0435\\u0439 \\u0438 \\u0438\\u0433\\u0440\\u0443\\u0448\\u043a\\u0438\", \"\\u0414\\u0435\\u0442\\u0441\\u043a\\u0430\\u044f \\u043e\\u0434\\u0435\\u0436\\u0434\\u0430 \\u0438 \\u043e\\u0431\\u0443\\u0432\\u044c\", \"\\u041e\\u0434\\u0435\\u0436\\u0434\\u0430, \\u043e\\u0431\\u0443\\u0432\\u044c, \\u0430\\u043a\\u0441\\u0435\\u0441\\u0441\\u0443\\u0430\\u0440\\u044b\"], \"type\": \"bar\", \"uid\": \"c4478519-c990-4cab-bfc1-b38a026a19f2\"}], {\"height\": 900, \"title\": {\"text\": \"Category Name of Ads - Count\"}}, {\"showLink\": false, \"linkText\": \"Export to plot.ly\", \"plotlyServerURL\": \"https://plot.ly\"}); \n",
       "}\n",
       "});</script><script type=\"text/javascript\">window.addEventListener(\"resize\", function(){if (document.getElementById(\"43999eb3-1b4c-469e-a816-354ca0fac1e9\")) {window._Plotly.Plots.resize(document.getElementById(\"43999eb3-1b4c-469e-a816-354ca0fac1e9\"));};})</script>"
      ]
     },
     "metadata": {},
     "output_type": "display_data"
    }
   ],
   "source": [
    "cnt_srs = train_df['category_name'].value_counts()\n",
    "trace = go.Bar(\n",
    "    x = cnt_srs.values[::-1],\n",
    "    y = cnt_srs.index[::-1],\n",
    "    orientation = 'h',\n",
    "    marker = dict(\n",
    "        color = cnt_srs.values[::-1],\n",
    "        colorscale = 'Blues',\n",
    "        reversescale = True\n",
    "    ),\n",
    ")\n",
    "layout = dict(\n",
    "    title = \"Category Name of Ads - Count\",\n",
    "    height = 900\n",
    ")\n",
    "data = [trace]\n",
    "fig = go.Figure(data=data, layout=layout)\n",
    "py.iplot(fig, filename=\"category name\")"
   ]
  },
  {
   "cell_type": "markdown",
   "metadata": {},
   "source": [
    "前三个类别分别是\n",
    "\n",
    "1. 衣服，鞋子，配件\n",
    "2. 儿童服装和鞋类\n",
    "3. 儿童用品和玩具"
   ]
  },
  {
   "cell_type": "code",
   "execution_count": null,
   "metadata": {},
   "outputs": [],
   "source": []
  }
 ],
 "metadata": {
  "kernelspec": {
   "display_name": "Python 3",
   "language": "python",
   "name": "python3"
  },
  "language_info": {
   "codemirror_mode": {
    "name": "ipython",
    "version": 3
   },
   "file_extension": ".py",
   "mimetype": "text/x-python",
   "name": "python",
   "nbconvert_exporter": "python",
   "pygments_lexer": "ipython3",
   "version": "3.6.8"
  }
 },
 "nbformat": 4,
 "nbformat_minor": 2
}
